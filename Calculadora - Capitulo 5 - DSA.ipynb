{
 "cells": [
  {
   "cell_type": "markdown",
   "metadata": {},
   "source": [
    "# Criar uma calculadora em Python"
   ]
  },
  {
   "cell_type": "code",
   "execution_count": 6,
   "metadata": {},
   "outputs": [
    {
     "name": "stdout",
     "output_type": "stream",
     "text": [
      "######################## CALCULADORA ########################\n",
      "Escolha a operação matemática:\n",
      "1 - Soma\n",
      "2 - Subtração\n",
      "3 - Multiplicação\n",
      "4 - Divisão\n",
      "\n",
      "\n",
      "10 + 5 = 15\n"
     ]
    }
   ],
   "source": [
    "#Vamos começar com um print\n",
    "\n",
    "print(\"######################## CALCULADORA ########################\")\n",
    "\n",
    "#definir as funções que representam as 4 operações\n",
    "def adicao(numero1, numero2):\n",
    "    return numero1 + numero2\n",
    "\n",
    "def subtracao(numero1, numero2):\n",
    "    return numero1 - numero2\n",
    "\n",
    "def multiplicacao(numero1, numero2):\n",
    "    return numero1 * numero2\n",
    "\n",
    "def divisao(numero1, numero2):\n",
    "    return numero1 / numero2\n",
    "\n",
    "print(\"Escolha a operação matemática:\")\n",
    "print(\"1 - Soma\")\n",
    "print(\"2 - Subtração\")\n",
    "print(\"3 - Multiplicação\")\n",
    "print(\"4 - Divisão\")\n",
    "\n",
    "numero1 = int(input(\"Escolha o primeiro número: \"))\n",
    "operacao = int(input(\"Escolher operação: \"))\n",
    "numero2 = int(input(\"Escolha o segundo número: \"))\n",
    "\n",
    "\n",
    "if operacao == 1:\n",
    "    print(\"\\n\")\n",
    "    print(numero1, \"+\", numero2, \"=\", adicao(numero1, numero2))\n",
    "\n",
    "elif operacao == 2:\n",
    "    print(\"\\n\")\n",
    "    print(numero1, \"-\", numero2, \"=\", subtracao(numero1, numero2))\n",
    "\n",
    "elif operacao == 3:\n",
    "    print(\"\\n\")\n",
    "    print(numero1, \"*\", numero2, \"=\", multiplicacao(numero1, numero2))\n",
    "\n",
    "elif operacao == 4:\n",
    "    print(\"\\n\")\n",
    "    print(numero1, \"/\", numero2, \"=\", divisao(numero1, numero2))\n",
    "\n",
    "else:\n",
    "    print(\"Operação inválida\")\n",
    "\n",
    "\n"
   ]
  }
 ],
 "metadata": {
  "kernelspec": {
   "display_name": "Python 3",
   "language": "python",
   "name": "python3"
  },
  "language_info": {
   "codemirror_mode": {
    "name": "ipython",
    "version": 3
   },
   "file_extension": ".py",
   "mimetype": "text/x-python",
   "name": "python",
   "nbconvert_exporter": "python",
   "pygments_lexer": "ipython3",
   "version": "3.11.9"
  }
 },
 "nbformat": 4,
 "nbformat_minor": 2
}
