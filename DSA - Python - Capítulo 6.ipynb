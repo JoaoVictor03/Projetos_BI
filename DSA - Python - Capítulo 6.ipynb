{
 "cells": [
  {
   "cell_type": "markdown",
   "metadata": {},
   "source": [
    "# Capítulo 6 - Tratamento de Arquivos, Módulos, Pacotes e Funções Built-in"
   ]
  },
  {
   "cell_type": "code",
   "execution_count": 2,
   "metadata": {},
   "outputs": [
    {
     "name": "stdout",
     "output_type": "stream",
     "text": [
      "3.11.9\n"
     ]
    }
   ],
   "source": [
    "#Versão Python utilizada\n",
    "from platform import python_version\n",
    "print(python_version())"
   ]
  },
  {
   "cell_type": "code",
   "execution_count": null,
   "metadata": {},
   "outputs": [
    {
     "name": "stdout",
     "output_type": "stream",
     "text": [
      "A Data Science Academy fornece cursos de alta qualidade e que transmitem muito conhecimento.\n"
     ]
    }
   ],
   "source": [
    "#Abrir um arquivo em Python\n",
    "#Para abrir um arquivo, podemos simplesmente usar a função open()\n",
    "\n",
    "#Sempre que for ler arquivos em python, utilize \"/\" para direcionar o caminho\n",
    "#utilizar \"r\" porque significa que está lendo o arquivo\n",
    "arquivo = open(\"C:/Users/JoaoV/Documents/Projetos/Python/Dsa - Python para análise de dados/Capítulo 6/arquivos/arquivo1.txt\", \"r\")\n",
    "\n",
    "#Ler arquivo\n",
    "ler_arquivo = arquivo.read()\n",
    "\n",
    "#imprimir o arquivo\n",
    "print(ler_arquivo)"
   ]
  },
  {
   "cell_type": "markdown",
   "metadata": {},
   "source": [
    "Podemos contar a quantidade de caracteres no arquivo usando o método .tell()"
   ]
  },
  {
   "cell_type": "code",
   "execution_count": 4,
   "metadata": {},
   "outputs": [
    {
     "name": "stdout",
     "output_type": "stream",
     "text": [
      "92\n"
     ]
    }
   ],
   "source": [
    "#Usar o método .tell() para ele contar a quantidade de caracteres e atribuir a uma variável\n",
    "qtd_caracteres = arquivo.tell()\n",
    "\n",
    "#Imprimir essa variável\n",
    "print(qtd_caracteres)"
   ]
  },
  {
   "cell_type": "markdown",
   "metadata": {},
   "source": [
    "Gravando arquivos com Python"
   ]
  },
  {
   "cell_type": "code",
   "execution_count": 26,
   "metadata": {},
   "outputs": [],
   "source": [
    "#Abrir um arquivo em Python utilizando o méto write (w).\n",
    "#Se já existir um arquivo com esse nome, a linguaguem irá sobrescrever o arquivo existente, caso contrário\n",
    "#ela irá criar um arquivo novo\n",
    "\n",
    "arquivo2 = open(\"C:/Users/JoaoV/Documents/Projetos/Python/Dsa - Python para análise de dados/Capítulo 6/arquivos/arquivo2.txt\", \"w\")"
   ]
  },
  {
   "cell_type": "code",
   "execution_count": 27,
   "metadata": {},
   "outputs": [
    {
     "ename": "UnsupportedOperation",
     "evalue": "not readable",
     "output_type": "error",
     "traceback": [
      "\u001b[1;31m---------------------------------------------------------------------------\u001b[0m",
      "\u001b[1;31mUnsupportedOperation\u001b[0m                      Traceback (most recent call last)",
      "Cell \u001b[1;32mIn[27], line 2\u001b[0m\n\u001b[0;32m      1\u001b[0m \u001b[38;5;66;03m#pelo fato de termos aberto o arquivo para gravação, não se pode utilizá-lo para leitura:\u001b[39;00m\n\u001b[1;32m----> 2\u001b[0m ler_arquivo2 \u001b[38;5;241m=\u001b[39m \u001b[43marquivo2\u001b[49m\u001b[38;5;241;43m.\u001b[39;49m\u001b[43mread\u001b[49m\u001b[43m(\u001b[49m\u001b[43m)\u001b[49m\n\u001b[0;32m      3\u001b[0m \u001b[38;5;28mprint\u001b[39m(ler_arquivo2)\n",
      "\u001b[1;31mUnsupportedOperation\u001b[0m: not readable"
     ]
    }
   ],
   "source": [
    "#pelo fato de termos aberto o arquivo para gravação, não se pode utilizá-lo para leitura:\n",
    "ler_arquivo2 = arquivo2.read()\n",
    "print(ler_arquivo2)"
   ]
  },
  {
   "cell_type": "code",
   "execution_count": 28,
   "metadata": {},
   "outputs": [
    {
     "data": {
      "text/plain": [
       "35"
      ]
     },
     "execution_count": 28,
     "metadata": {},
     "output_type": "execute_result"
    }
   ],
   "source": [
    "#Podemos escrever dados nesse arquivo e em seguida gravar\n",
    "#Como resultado do Jupyter, ele imprime o número de caracteres da string\n",
    "arquivo2.write(\"Primeiro teste escrevendo em Python\")"
   ]
  },
  {
   "cell_type": "code",
   "execution_count": 30,
   "metadata": {},
   "outputs": [
    {
     "name": "stdout",
     "output_type": "stream",
     "text": [
      "Primeiro teste escrevendo em Python\n"
     ]
    }
   ],
   "source": [
    "#Agora, vamos fechar o arquivo utilizando o método .close() e em seguida vamos ler este mesmo arquivo\n",
    "arquivo2.close()\n",
    "\n",
    "#ler o arquivo usando o método .read(nome, \"r\") e usar r porque queremos apenas ler o arquivo\n",
    "arquivo2 = open(\"C:/Users/JoaoV/Documents/Projetos/Python/Dsa - Python para análise de dados/Capítulo 6/arquivos/arquivo2.txt\", \"r\")\n",
    "ler_arquivo2 = arquivo2.read() #utilizar o método .read() para ler o arquivoS\n",
    "\n",
    "#imprimir o arquivo utilizado\n",
    "print(ler_arquivo2)"
   ]
  },
  {
   "cell_type": "markdown",
   "metadata": {},
   "source": [
    "Para adicionar conteúdo ao arquivo já existente, é necessário abrir o arquivo com o métod \"a\" que significa append"
   ]
  },
  {
   "cell_type": "code",
   "execution_count": 31,
   "metadata": {},
   "outputs": [
    {
     "name": "stdout",
     "output_type": "stream",
     "text": [
      "Primeiro teste escrevendo em Python. Por isso, escrevi essa frase\n"
     ]
    }
   ],
   "source": [
    "#Vamos abrir o arquivo usando o método \"a\"\n",
    "arquivo2 = open(\"C:/Users/JoaoV/Documents/Projetos/Python/Dsa - Python para análise de dados/Capítulo 6/arquivos/arquivo2.txt\", \"a\")\n",
    "\n",
    "#utilizar o método .write() para poder escrever neste arquivo já existente. Pelo fato de termos aberto com a característica de \"append\"\n",
    "#o código não irá sobrescrever, mas sim irá acrescentar informação\n",
    "adicionar = arquivo2.write(\". Por isso, escrevi essa frase\")\n",
    "\n",
    "#Agora, vamos fechar o arquivo.\n",
    "arquivo2.close()\n",
    "\n",
    "#Abrir o arquivo novamente, porém dessa vez no modo de leitura \"r\"\n",
    "arquivo2 = open(\"C:/Users/JoaoV/Documents/Projetos/Python/Dsa - Python para análise de dados/Capítulo 6/arquivos/arquivo2.txt\", \"r\")\n",
    "\n",
    "#vamos ler novamente o arquivo\n",
    "ler_arquivo2 = arquivo2.read() #utilizar o método .read() para ler o arquivoS\n",
    "\n",
    "#imprimir o arquivo utilizado\n",
    "print(ler_arquivo2)"
   ]
  }
 ],
 "metadata": {
  "kernelspec": {
   "display_name": "Python 3",
   "language": "python",
   "name": "python3"
  },
  "language_info": {
   "codemirror_mode": {
    "name": "ipython",
    "version": 3
   },
   "file_extension": ".py",
   "mimetype": "text/x-python",
   "name": "python",
   "nbconvert_exporter": "python",
   "pygments_lexer": "ipython3",
   "version": "3.11.9"
  }
 },
 "nbformat": 4,
 "nbformat_minor": 2
}
