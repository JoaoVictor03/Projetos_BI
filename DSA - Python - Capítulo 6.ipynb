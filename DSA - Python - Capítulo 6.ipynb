{
 "cells": [
  {
   "cell_type": "markdown",
   "metadata": {},
   "source": [
    "# Capítulo 6 - Tratamento de Arquivos, Módulos, Pacotes e Funções Built-in"
   ]
  },
  {
   "cell_type": "code",
   "execution_count": 2,
   "metadata": {},
   "outputs": [
    {
     "name": "stdout",
     "output_type": "stream",
     "text": [
      "3.11.9\n"
     ]
    }
   ],
   "source": [
    "#Versão Python utilizada\n",
    "from platform import python_version\n",
    "print(python_version())"
   ]
  },
  {
   "cell_type": "code",
   "execution_count": null,
   "metadata": {},
   "outputs": [
    {
     "name": "stdout",
     "output_type": "stream",
     "text": [
      "A Data Science Academy fornece cursos de alta qualidade e que transmitem muito conhecimento.\n"
     ]
    }
   ],
   "source": [
    "#Abrir um arquivo em Python\n",
    "#Para abrir um arquivo, podemos simplesmente usar a função open()\n",
    "\n",
    "#Sempre que for ler arquivos em python, utilize \"/\" para direcionar o caminho\n",
    "#utilizar \"r\" porque significa que está lendo o arquivo\n",
    "arquivo = open(\"C:/Users/JoaoV/Documents/Projetos/Python/Dsa - Python para análise de dados/Capítulo 6/arquivos/arquivo1.txt\", \"r\")\n",
    "\n",
    "#Ler arquivo\n",
    "ler_arquivo = arquivo.read()\n",
    "\n",
    "#imprimir o arquivo\n",
    "print(ler_arquivo)"
   ]
  },
  {
   "cell_type": "markdown",
   "metadata": {},
   "source": [
    "Podemos contar a quantidade de caracteres no arquivo usando o método .tell()"
   ]
  },
  {
   "cell_type": "code",
   "execution_count": 4,
   "metadata": {},
   "outputs": [
    {
     "name": "stdout",
     "output_type": "stream",
     "text": [
      "92\n"
     ]
    }
   ],
   "source": [
    "#Usar o método .tell() para ele contar a quantidade de caracteres e atribuir a uma variável\n",
    "qtd_caracteres = arquivo.tell()\n",
    "\n",
    "#Imprimir essa variável\n",
    "print(qtd_caracteres)"
   ]
  },
  {
   "cell_type": "markdown",
   "metadata": {},
   "source": [
    "Gravando arquivos com Python"
   ]
  },
  {
   "cell_type": "code",
   "execution_count": 26,
   "metadata": {},
   "outputs": [],
   "source": [
    "#Abrir um arquivo em Python utilizando o méto write (w).\n",
    "#Se já existir um arquivo com esse nome, a linguaguem irá sobrescrever o arquivo existente, caso contrário\n",
    "#ela irá criar um arquivo novo\n",
    "\n",
    "arquivo2 = open(\"C:/Users/JoaoV/Documents/Projetos/Python/Dsa - Python para análise de dados/Capítulo 6/arquivos/arquivo2.txt\", \"w\")"
   ]
  },
  {
   "cell_type": "code",
   "execution_count": 27,
   "metadata": {},
   "outputs": [
    {
     "ename": "UnsupportedOperation",
     "evalue": "not readable",
     "output_type": "error",
     "traceback": [
      "\u001b[1;31m---------------------------------------------------------------------------\u001b[0m",
      "\u001b[1;31mUnsupportedOperation\u001b[0m                      Traceback (most recent call last)",
      "Cell \u001b[1;32mIn[27], line 2\u001b[0m\n\u001b[0;32m      1\u001b[0m \u001b[38;5;66;03m#pelo fato de termos aberto o arquivo para gravação, não se pode utilizá-lo para leitura:\u001b[39;00m\n\u001b[1;32m----> 2\u001b[0m ler_arquivo2 \u001b[38;5;241m=\u001b[39m \u001b[43marquivo2\u001b[49m\u001b[38;5;241;43m.\u001b[39;49m\u001b[43mread\u001b[49m\u001b[43m(\u001b[49m\u001b[43m)\u001b[49m\n\u001b[0;32m      3\u001b[0m \u001b[38;5;28mprint\u001b[39m(ler_arquivo2)\n",
      "\u001b[1;31mUnsupportedOperation\u001b[0m: not readable"
     ]
    }
   ],
   "source": [
    "#pelo fato de termos aberto o arquivo para gravação, não se pode utilizá-lo para leitura:\n",
    "ler_arquivo2 = arquivo2.read()\n",
    "print(ler_arquivo2)"
   ]
  },
  {
   "cell_type": "code",
   "execution_count": 28,
   "metadata": {},
   "outputs": [
    {
     "data": {
      "text/plain": [
       "35"
      ]
     },
     "execution_count": 28,
     "metadata": {},
     "output_type": "execute_result"
    }
   ],
   "source": [
    "#Podemos escrever dados nesse arquivo e em seguida gravar\n",
    "#Como resultado do Jupyter, ele imprime o número de caracteres da string\n",
    "arquivo2.write(\"Primeiro teste escrevendo em Python\")"
   ]
  },
  {
   "cell_type": "code",
   "execution_count": 30,
   "metadata": {},
   "outputs": [
    {
     "name": "stdout",
     "output_type": "stream",
     "text": [
      "Primeiro teste escrevendo em Python\n"
     ]
    }
   ],
   "source": [
    "#Agora, vamos fechar o arquivo utilizando o método .close() e em seguida vamos ler este mesmo arquivo\n",
    "arquivo2.close()\n",
    "\n",
    "#ler o arquivo usando o método .read(nome, \"r\") e usar r porque queremos apenas ler o arquivo\n",
    "arquivo2 = open(\"C:/Users/JoaoV/Documents/Projetos/Python/Dsa - Python para análise de dados/Capítulo 6/arquivos/arquivo2.txt\", \"r\")\n",
    "ler_arquivo2 = arquivo2.read() #utilizar o método .read() para ler o arquivoS\n",
    "\n",
    "#imprimir o arquivo utilizado\n",
    "print(ler_arquivo2)"
   ]
  },
  {
   "cell_type": "markdown",
   "metadata": {},
   "source": [
    "Para adicionar conteúdo ao arquivo já existente, é necessário abrir o arquivo com o métod \"a\" que significa append"
   ]
  },
  {
   "cell_type": "code",
   "execution_count": 25,
   "metadata": {},
   "outputs": [
    {
     "name": "stdout",
     "output_type": "stream",
     "text": [
      "Primeiro teste escrevendo em Python. Por isso, escrevi essa frase. Por isso, escrevi essa frase. Por isso, escrevi essa frase. Por isso, escrevi essa frase. Por isso, escrevi essa frase. Por isso, escrevi essa frase. Por isso, escrevi essa frase. Por isso, escrevi essa frase. Por isso, escrevi essa frase\n"
     ]
    }
   ],
   "source": [
    "#Vamos abrir o arquivo usando o método \"a\"\n",
    "arquivo2 = open(\"C:/Users/JoaoV/Documents/Projetos/Python/Dsa - Python para análise de dados/Capítulo 6/arquivos/arquivo2.txt\", \"a\")\n",
    "\n",
    "#utilizar o método .write() para poder escrever neste arquivo já existente. Pelo fato de termos aberto com a característica de \"append\"\n",
    "#o código não irá sobrescrever, mas sim irá acrescentar informação\n",
    "adicionar = arquivo2.write(\". Por isso, escrevi essa frase\")\n",
    "\n",
    "#Agora, vamos fechar o arquivo.\n",
    "arquivo2.close()\n",
    "\n",
    "#Abrir o arquivo novamente, porém dessa vez no modo de leitura \"r\"\n",
    "arquivo2 = open(\"C:/Users/JoaoV/Documents/Projetos/Python/Dsa - Python para análise de dados/Capítulo 6/arquivos/arquivo2.txt\", \"r\")\n",
    "\n",
    "#vamos ler novamente o arquivo\n",
    "ler_arquivo2 = arquivo2.read() #utilizar o método .read() para ler o arquivoS\n",
    "\n",
    "#imprimir o arquivo utilizado\n",
    "print(ler_arquivo2)"
   ]
  },
  {
   "cell_type": "markdown",
   "metadata": {},
   "source": [
    "## Contar as linhas de um arquivo"
   ]
  },
  {
   "cell_type": "code",
   "execution_count": 18,
   "metadata": {},
   "outputs": [],
   "source": [
    "#Para contar quantas linhas existem em um arquivo, podemos arir em modo de leitura \"r\"\n",
    "arquivo = open(\"C:/Users/JoaoV/Documents/3_Projetos/Python/Dsa - Python para análise de dados/Capítulo 6/arquivos/salarios.csv\", \"r\")"
   ]
  },
  {
   "cell_type": "code",
   "execution_count": 19,
   "metadata": {},
   "outputs": [],
   "source": [
    "#Utilizar o método .read para ler o arquivo\n",
    "dados = arquivo.read()\n",
    "\n",
    "#separar as linhas\n",
    "linhas = dados.split('\\n')"
   ]
  },
  {
   "cell_type": "code",
   "execution_count": 20,
   "metadata": {},
   "outputs": [],
   "source": [
    "#Criar uma lista vazia onde terá todos os dados\n",
    "dados_completos = []"
   ]
  },
  {
   "cell_type": "code",
   "execution_count": 21,
   "metadata": {},
   "outputs": [],
   "source": [
    "#Criar um loop que irá iterar por cada linha do arquivo e separar por vírgula\n",
    "for linha in linhas:\n",
    "    dado = linha.split(\",\")\n",
    "    dados_completos.append(dado)"
   ]
  },
  {
   "cell_type": "code",
   "execution_count": 22,
   "metadata": {},
   "outputs": [],
   "source": [
    "#Criar uma variável que irá contar quantas linhas existem no arquivo e irá adicionar 1 para cada linha\n",
    "contador_linhas = 0\n",
    "\n",
    "for linha in dados_completos:\n",
    "    contador_linhas += 1"
   ]
  },
  {
   "cell_type": "code",
   "execution_count": 24,
   "metadata": {},
   "outputs": [
    {
     "name": "stdout",
     "output_type": "stream",
     "text": [
      "32184\n"
     ]
    }
   ],
   "source": [
    "#imprimir a quantidade de linhas\n",
    "print(contador_linhas)"
   ]
  },
  {
   "cell_type": "markdown",
   "metadata": {},
   "source": [
    "## Contar a quantidade de colunas em um arquivo\n"
   ]
  },
  {
   "cell_type": "code",
   "execution_count": 31,
   "metadata": {},
   "outputs": [],
   "source": [
    "arquivo4 = open(\"C:/Users/JoaoV/Documents/3_Projetos/Python/Dsa - Python para análise de dados/Capítulo 6/arquivos/salarios.csv\", \"r\")"
   ]
  },
  {
   "cell_type": "code",
   "execution_count": 32,
   "metadata": {},
   "outputs": [],
   "source": [
    "#ler o arquivo usando o método\n",
    "ler_dados = arquivo4.read()"
   ]
  },
  {
   "cell_type": "code",
   "execution_count": 48,
   "metadata": {},
   "outputs": [],
   "source": [
    "#Criar um lista vazia que terá o número das colunas\n",
    "dados_completos = []"
   ]
  },
  {
   "cell_type": "code",
   "execution_count": 47,
   "metadata": {},
   "outputs": [],
   "source": [
    "#Criar um loop que irá iterar sobre cada linha e irá separa por vírgula. Porém, como queremos contar apenas o número de colunas, a primeira linha\n",
    "#contem o nome das colunas, então, iremos ler apenas a primeira linha\n",
    "for linha in linhas:\n",
    "    linhas_separadas = linha.split(\",\")\n",
    "    dados_completos.append(linhas_separadas)\n",
    "    primeira_linha = dados_completos[0]"
   ]
  },
  {
   "cell_type": "code",
   "execution_count": 49,
   "metadata": {},
   "outputs": [],
   "source": [
    "#Criar um contador que irá contar quantas colunas temos\n",
    "contar_colunas = 0\n",
    "\n",
    "for coluna in primeira_linha:\n",
    "    contar_colunas += 1"
   ]
  },
  {
   "cell_type": "code",
   "execution_count": 46,
   "metadata": {},
   "outputs": [
    {
     "name": "stdout",
     "output_type": "stream",
     "text": [
      "4\n"
     ]
    }
   ],
   "source": [
    "#imprimir a quantidade de colunas\n",
    "print(contar_colunas)"
   ]
  },
  {
   "cell_type": "markdown",
   "metadata": {},
   "source": [
    "## Gravando arquivos pelo Jupyter Notebook"
   ]
  },
  {
   "cell_type": "code",
   "execution_count": 7,
   "metadata": {},
   "outputs": [
    {
     "name": "stdout",
     "output_type": "stream",
     "text": [
      "Overwriting arquivo3.txt\n"
     ]
    }
   ],
   "source": [
    "%%writefile arquivo3.txt\n",
    "Este arquivo foir gerado pelo Jupyter Notebook\n",
    "Podemos gerar quantas linhas quisermos e o julpyter irá criar um arquivo com essas linhas"
   ]
  },
  {
   "cell_type": "code",
   "execution_count": 1,
   "metadata": {},
   "outputs": [],
   "source": [
    "#Vamos agora abrir o arquivo para leitura\n",
    "arquivo3 = open(\"arquivo3.txt\", \"r\") #Como queremos no modo de leitura, usamos o  método \"r\""
   ]
  },
  {
   "cell_type": "code",
   "execution_count": 9,
   "metadata": {},
   "outputs": [
    {
     "data": {
      "text/plain": [
       "0"
      ]
     },
     "execution_count": 9,
     "metadata": {},
     "output_type": "execute_result"
    }
   ],
   "source": [
    "#usar o método seek para posicionar o cursor no início do arquivoo\n",
    "arquivo3.seek(0) #Usamos seek(0) porque queremos o índice 0\n"
   ]
  },
  {
   "cell_type": "code",
   "execution_count": 10,
   "metadata": {},
   "outputs": [
    {
     "data": {
      "text/plain": [
       "['Este arquivo foir gerado pelo Jupyter Notebook\\n',\n",
       " 'Podemos gerar quantas linhas quisermos e o julpyter irÃ¡ criar um arquivo com essas linhas\\n']"
      ]
     },
     "execution_count": 10,
     "metadata": {},
     "output_type": "execute_result"
    }
   ],
   "source": [
    "#Agora, vamos ler as linhas do arquivo\n",
    "arquivo3.readlines()"
   ]
  },
  {
   "cell_type": "markdown",
   "metadata": {},
   "source": [
    "## Até o momento apenas usamos os códigos em python puro, ou seja, sem a necessidade de instalar nada. A partir de agora vamos usar as bibliotecas como pandas e outras"
   ]
  },
  {
   "cell_type": "markdown",
   "metadata": {},
   "source": [
    "### Importando um dataset com pandas"
   ]
  },
  {
   "cell_type": "code",
   "execution_count": 11,
   "metadata": {},
   "outputs": [
    {
     "data": {
      "text/plain": [
       "'2.2.3'"
      ]
     },
     "execution_count": 11,
     "metadata": {},
     "output_type": "execute_result"
    }
   ],
   "source": [
    "import pandas as pd #importar a biblioteca pandas\n",
    "pd.__version__ #é usada paraverificar qual a versção da biblioteca"
   ]
  },
  {
   "cell_type": "code",
   "execution_count": 16,
   "metadata": {},
   "outputs": [],
   "source": [
    "#vamos gravar um arquivo csv para poder ler\n",
    "arquivo = \"C:/Users/JoaoV/Documents/3_Projetos/Python/Dsa - Python para análise de dados/Capítulo 6/arquivos/salarios.csv\"\n"
   ]
  },
  {
   "cell_type": "code",
   "execution_count": null,
   "metadata": {},
   "outputs": [],
   "source": [
    "#usar o método read_csv para ler o arquivo e e atribuir esse dataframe à uma variável\n",
    "df_arquivo = pd.read_csv(arquivo)"
   ]
  },
  {
   "cell_type": "markdown",
   "metadata": {},
   "source": [
    "## Manipulando arquivos formato txt em python\n",
    "Arquivos txt são simples textos e sêm formatação. São universais e podem ser lidos em qualquer sistema operacional"
   ]
  },
  {
   "cell_type": "code",
   "execution_count": 4,
   "metadata": {},
   "outputs": [
    {
     "name": "stdout",
     "output_type": "stream",
     "text": [
      "Cientista de dados pode ser uma excelente opçao de carreira.\n",
      "Os salários são atrativos e bons benefícios\n"
     ]
    }
   ],
   "source": [
    "#Vamos começar com um exemplo simples\n",
    "texto1 = \"Cientista de dados pode ser uma excelente opçao de carreira.\\n\" #usar /n para pular uma linha\n",
    "texto2 = \"Os salários são atrativos e bons benefícios\"\n",
    "texto3 = texto1 + texto2\n",
    "\n",
    "print(texto3)"
   ]
  },
  {
   "cell_type": "code",
   "execution_count": 45,
   "metadata": {},
   "outputs": [],
   "source": [
    "#Agora, vamos começar a utilizar o módulo os para interagir com o sistema operacional\n",
    "import os"
   ]
  },
  {
   "cell_type": "code",
   "execution_count": 46,
   "metadata": {},
   "outputs": [],
   "source": [
    "#Vamos abrir um arquivo para escrita utilizando o módulo os. Vamos abrir o arquivo no modo de escrita, logo usaremos \"w\"\n",
    "arquivo = open(os.path.join(\"C:/Users/JoaoV/Documents/3_Projetos/Python/Dsa - Python para análise de dados/Capítulo 6/arquivos/cientista.txt\"), \"w\")"
   ]
  },
  {
   "cell_type": "code",
   "execution_count": 47,
   "metadata": {},
   "outputs": [],
   "source": [
    "#Vamos gravar dentro desse arquivo o texto3 que criamos nas células anteriores\n",
    "for palavra in texto3.split(\" \"): #usar .split() para poder separar as palavras por espaços\n",
    "\n",
    "    #Usar arquivo.write porque arquivo é o nome da variável que criamos para armazenar o arquivo\n",
    "    arquivo.write(palavra + \" \") #usar "
   ]
  },
  {
   "cell_type": "code",
   "execution_count": 48,
   "metadata": {},
   "outputs": [],
   "source": [
    "arquivo.close()"
   ]
  },
  {
   "cell_type": "code",
   "execution_count": 49,
   "metadata": {},
   "outputs": [
    {
     "name": "stdout",
     "output_type": "stream",
     "text": [
      "Cientista de dados pode ser uma excelente opçao de carreira.\n",
      "Os salários são atrativos e bons benefícios \n"
     ]
    }
   ],
   "source": [
    "#Agora, vamos abrir o arquivo no modo de leitura e exibir as informações\n",
    "arquivo = open(\"C:/Users/JoaoV/Documents/3_Projetos/Python/Dsa - Python para análise de dados/Capítulo 6/arquivos/cientista.txt\", \"r\")\n",
    "\n",
    "#ler o arquivo usando método .read()\n",
    "conteudo = arquivo.read()\n",
    "\n",
    "print(conteudo)"
   ]
  },
  {
   "cell_type": "markdown",
   "metadata": {},
   "source": [
    "### Usando o método with\n",
    "Com esse método, a função .close() é executada automaticamente"
   ]
  },
  {
   "cell_type": "code",
   "execution_count": 2,
   "metadata": {},
   "outputs": [
    {
     "name": "stdout",
     "output_type": "stream",
     "text": [
      "105\n",
      "Cientista de dados pode ser uma excelente opçao de carreira.\n",
      "Os salários são atrativos e bons benefícios \n"
     ]
    }
   ],
   "source": [
    "#para poder abrir o arquivo usando o método with, fazemos da seguinte forma:\n",
    "#devemos colocar as arquivo porque é o nome da variável que iremos armazenar\n",
    "with open(\"C:/Users/JoaoV/Documents/3_Projetos/Python/Dsa - Python para análise de dados/Capítulo 6/arquivos/cientista.txt\", \"r\") as arquivo:\n",
    "    \n",
    "    #queremos ler os dados que estão dentro desse arquivo\n",
    "    dados = arquivo.read()\n",
    "\n",
    "#imprimir o tamanho dos dados\n",
    "print(len(dados))\n",
    "\n",
    "#imprimir o conteúdo do arquivo\n",
    "print(dados)"
   ]
  },
  {
   "cell_type": "code",
   "execution_count": 7,
   "metadata": {},
   "outputs": [],
   "source": [
    "#Agora, podemos abrir o arquivo no modo de escrita para adicionar informações\n",
    "with open(\"C:/Users/JoaoV/Documents/3_Projetos/Python/Dsa - Python para análise de dados/Capítulo 6/arquivos/cientista.txt\", \"w\") as arquivo:\n",
    "    \n",
    "    #escrever dentro do arquivo\n",
    "    arquivo.write(texto3[:19]) #usar [:19] para pegar os 21 primeiros caracteres\n",
    "    arquivo.write(\"\\n\") #para poder pular uma liinha\n",
    "    arquivo.write(texto3[28:66]) #usar [28:66] para pegar os caracteres da posição 28 até 66\n",
    "\n",
    "#Como usamos o método with, não precisamos fechar o arquivo porque ele já fecha automaticamente"
   ]
  },
  {
   "cell_type": "code",
   "execution_count": 8,
   "metadata": {},
   "outputs": [
    {
     "name": "stdout",
     "output_type": "stream",
     "text": [
      "Cientista de dados \n",
      "uma excelente opçao de carreira.\n",
      "Os sa\n"
     ]
    }
   ],
   "source": [
    "#Agora, vamos ler o arquivo usando o método open\n",
    "\n",
    "arquivo = open(\"C:/Users/JoaoV/Documents/3_Projetos/Python/Dsa - Python para análise de dados/Capítulo 6/arquivos/cientista.txt\", \"r\")\n",
    "conteudo = arquivo.read()\n",
    "print(conteudo)\n",
    "arquivo.close()"
   ]
  },
  {
   "cell_type": "markdown",
   "metadata": {},
   "source": [
    "### Manipulando arquivos no formato csv usando python"
   ]
  },
  {
   "cell_type": "code",
   "execution_count": 2,
   "metadata": {},
   "outputs": [],
   "source": [
    "#O módulo CSV já vem instalado com o anaconda Python, só é necessário importar usando o método import\n",
    "import csv"
   ]
  },
  {
   "cell_type": "code",
   "execution_count": 6,
   "metadata": {},
   "outputs": [],
   "source": [
    "#Vamos abrir o arquivo no modo de escrita usando o método with (isso faz com que o arquivo feche automaticamente)\n",
    "#para abrir no modo de escrita, usamos o \"w\". as arquivo significa que queremos atribuir o arquivo à uma variável\n",
    "\n",
    "with open(\"C:/Users/JoaoV/Documents/3_Projetos/Python/Dsa - Python para análise de dados/Capítulo 6/arquivos/numeros.csv\", \"w\") as arquivo:\n",
    "\n",
    "    #criar um objeto de gravação dos dados\n",
    "    gravador = csv.writer(arquivo)\n",
    "\n",
    "    #gravar no arquivo linha a linha. Usando gravador que é o objeto  + writerow porque é a função que queremos usar para escrever a linha\n",
    "    gravador.writerow((\"nota1\",\"nota2\", \"nota3\"))\n",
    "    gravador.writerow((10,20,30))\n",
    "    gravador.writerow((20,35,50))\n",
    "    gravador.writerow((15,25,40))"
   ]
  },
  {
   "cell_type": "code",
   "execution_count": 8,
   "metadata": {},
   "outputs": [
    {
     "name": "stdout",
     "output_type": "stream",
     "text": [
      "['nota1', 'nota2', 'nota3']\n",
      "['10', '20', '30']\n",
      "['20', '35', '50']\n",
      "['15', '25', '40']\n"
     ]
    }
   ],
   "source": [
    "#Agore, vamos ler o arquivo que acabamos de criar. Para isso, precisamos criar um loop que irá iterar sobre cada linha do arquivo\n",
    "with open(\"C:/Users/JoaoV/Documents/3_Projetos/Python/Dsa - Python para análise de dados/Capítulo 6/arquivos/numeros.csv\", \"r\", encoding=\"utf8\", newline=\"\\r\\n\") as arquivo:\n",
    "\n",
    "    #Criar um objeto para leitura do arquivo csv\n",
    "    leitor = csv.reader(arquivo)\n",
    "\n",
    "    #Criar um loop que irá iterar sobre cada linha do arquivo\n",
    "    for x in leitor: #criamos uma variável que irá iterar sobre cada dado do arquivo. Usamos o nome x porque é uma variável temporária\n",
    "        print(x)"
   ]
  },
  {
   "cell_type": "code",
   "execution_count": 11,
   "metadata": {},
   "outputs": [
    {
     "name": "stdout",
     "output_type": "stream",
     "text": [
      "[['nota1', 'nota2', 'nota3'], [], ['10', '20', '30'], [], ['20', '35', '50'], [], ['15', '25', '40'], []]\n"
     ]
    }
   ],
   "source": [
    "#Podemos imprimir e ler o arquivo também a partir de listas\n",
    "with open(\"C:/Users/JoaoV/Documents/3_Projetos/Python/Dsa - Python para análise de dados/Capítulo 6/arquivos/numeros.csv\", \"r\") as arquivo:\n",
    "\n",
    "    #usar csv.readder porque é o método para ler o arquivo em csv\n",
    "    leitor = csv.reader(arquivo)\n",
    "    dados = list(leitor) #gravar os dados em forma de lista\n",
    "\n",
    "    #imprimir os dados em lista\n",
    "    print(dados)"
   ]
  },
  {
   "cell_type": "code",
   "execution_count": 13,
   "metadata": {},
   "outputs": [
    {
     "name": "stdout",
     "output_type": "stream",
     "text": [
      "[]\n",
      "['10', '20', '30']\n",
      "[]\n",
      "['20', '35', '50']\n",
      "[]\n",
      "['15', '25', '40']\n",
      "[]\n"
     ]
    }
   ],
   "source": [
    "#imprimir os dados apenas da segundda linha\n",
    "for linha in dados[1:]:\n",
    "    print(linha)"
   ]
  },
  {
   "cell_type": "markdown",
   "metadata": {},
   "source": [
    "### Manipulando arquivos JSON com linguagem python"
   ]
  },
  {
   "cell_type": "code",
   "execution_count": 2,
   "metadata": {},
   "outputs": [],
   "source": [
    "#criando um dicionário. No Json, os dados são transformados em dicionários para leitura das informações\n",
    "dicionario = {\"nome\": \"João\",\n",
    "              \"linguagem\": \"inglês\",\n",
    "              \"estudo\": \"7 anos\",\n",
    "              \"horas\": 10000}"
   ]
  },
  {
   "cell_type": "code",
   "execution_count": 3,
   "metadata": {},
   "outputs": [
    {
     "name": "stdout",
     "output_type": "stream",
     "text": [
      "nome João\n",
      "linguagem inglês\n",
      "estudo 7 anos\n",
      "horas 10000\n"
     ]
    }
   ],
   "source": [
    "#Criar um loop para imprimir as chaves e os valores do dicionário\n",
    "for key, value in dicionario.items():\n",
    "    print(key, value)"
   ]
  },
  {
   "cell_type": "code",
   "execution_count": 4,
   "metadata": {},
   "outputs": [],
   "source": [
    "#importar o módulo json para gravação do arquivo\n",
    "import json"
   ]
  },
  {
   "cell_type": "code",
   "execution_count": 5,
   "metadata": {},
   "outputs": [
    {
     "data": {
      "text/plain": [
       "'{\"nome\": \"Jo\\\\u00e3o\", \"linguagem\": \"ingl\\\\u00eas\", \"estudo\": \"7 anos\", \"horas\": 10000}'"
      ]
     },
     "execution_count": 5,
     "metadata": {},
     "output_type": "execute_result"
    }
   ],
   "source": [
    "json.dumps(dicionario) #Converter o dicionário em json"
   ]
  },
  {
   "cell_type": "code",
   "execution_count": 6,
   "metadata": {},
   "outputs": [],
   "source": [
    "#criar um arquivo em formato json para poder gravar o dicionário\n",
    "with open(\"C:/Users/JoaoV/Documents/3_Projetos/Python/Dsa - Python para análise de dados/Capítulo 6/arquivos/dados.json\", \"w\") as arquivo:\n",
    "    arquivo.write(json.dumps(dicionario)) #usar o método .write para gravar o arquivo"
   ]
  },
  {
   "cell_type": "code",
   "execution_count": 7,
   "metadata": {},
   "outputs": [
    {
     "name": "stdout",
     "output_type": "stream",
     "text": [
      "{'nome': 'João', 'linguagem': 'inglês', 'estudo': '7 anos', 'horas': 10000}\n"
     ]
    }
   ],
   "source": [
    "#Leitura do arquivo criado em json\n",
    "with open (\"C:/Users/JoaoV/Documents/3_Projetos/Python/Dsa - Python para análise de dados/Capítulo 6/arquivos/dados.json\", \"r\") as arquivo:\n",
    "    texto = arquivo.read()\n",
    "\n",
    "    #Criar uma variável para atribuir os dados do arquivo json usando json.loads()\n",
    "    dados = json.loads(texto)\n",
    "\n",
    "    #imprimir os dados do arquivo\n",
    "    print(dados)"
   ]
  },
  {
   "cell_type": "code",
   "execution_count": 9,
   "metadata": {},
   "outputs": [
    {
     "name": "stdout",
     "output_type": "stream",
     "text": [
      "inglês\n"
     ]
    }
   ],
   "source": [
    "#Podemos imprimir apenas um dos dados dentro do arquivo\n",
    "print(dados[\"linguagem\"])"
   ]
  },
  {
   "cell_type": "markdown",
   "metadata": {},
   "source": [
    "### Extraindo informações da web com manipulação de json"
   ]
  },
  {
   "cell_type": "code",
   "execution_count": 1,
   "metadata": {},
   "outputs": [],
   "source": [
    "import json\n",
    "from urllib.request import urlopen"
   ]
  },
  {
   "cell_type": "code",
   "execution_count": 3,
   "metadata": {},
   "outputs": [
    {
     "name": "stdout",
     "output_type": "stream",
     "text": [
      "[{\"id\":57733101,\"title\":\"The Good Man trailer\",\"description\":\"Trailer for the Manifesto Films production, The Good Man, now available in UK\\/Ireland\\/US\\/Canada\\/Australia\\/New Zealand on iTunes (https:\\/\\/itunes.apple.com\\/us\\/movie\\/the-good-man\\/id873130906) and DVD (http:\\/\\/www.amazon.co.uk\\/The-Good-Man-Aiden-Gillen\\/dp\\/B00IIK6CGU\\/). Co-production with Jet Black Entertainment (South Africa). Starring Aidan Gillen, Thabang Sidloyi, Kelly Campbell, Lunathi Mampofu. Written & directed by Phil Harrison. More info at www.thegoodmanfilm.com<br \\/>\\r\\n<br \\/>\\r\\nCheck out the Variety Magazine review here: http:\\/\\/www.variety.com\\/review\\/VE1117947909\\/\",\"url\":\"https:\\/\\/vimeo.com\\/57733101\",\"upload_date\":\"2013-01-19 04:01:15\",\"thumbnail_small\":\"https:\\/\\/i.vimeocdn.com\\/video\\/436057121-e828a1f5478ec0136e957753d107f2a1268c64def9b82faac37c8e30c031cff2-d_100x75\",\"thumbnail_medium\":\"https:\\/\\/i.vimeocdn.com\\/video\\/436057121-e828a1f5478ec0136e957753d107f2a1268c64def9b82faac37c8e30c031cff2-d_200x150\",\"thumbnail_large\":\"https:\\/\\/i.vimeocdn.com\\/video\\/436057121-e828a1f5478ec0136e957753d107f2a1268c64def9b82faac37c8e30c031cff2-d_640\",\"user_id\":1334563,\"user_name\":\"Manifesto Films\",\"user_url\":\"https:\\/\\/vimeo.com\\/manifestofilms\",\"user_portrait_small\":\"https:\\/\\/i.vimeocdn.com\\/portrait\\/4778306_30x30?sig=dce4bd41e32adf3305ffd0a161ae27a5c919bba5773cf2f2c3ca5be075726518&v=1\",\"user_portrait_medium\":\"https:\\/\\/i.vimeocdn.com\\/portrait\\/4778306_75x75?sig=dce4bd41e32adf3305ffd0a161ae27a5c919bba5773cf2f2c3ca5be075726518&v=1\",\"user_portrait_large\":\"https:\\/\\/i.vimeocdn.com\\/portrait\\/4778306_100x100?sig=dce4bd41e32adf3305ffd0a161ae27a5c919bba5773cf2f2c3ca5be075726518&v=1\",\"user_portrait_huge\":\"https:\\/\\/i.vimeocdn.com\\/portrait\\/4778306_300x300?sig=dce4bd41e32adf3305ffd0a161ae27a5c919bba5773cf2f2c3ca5be075726518&v=1\",\"stats_number_of_likes\":18,\"stats_number_of_plays\":6793,\"stats_number_of_comments\":2,\"duration\":143,\"width\":1024,\"height\":576,\"tags\":\"belfast, cape town, africa, ireland, film\",\"embed_privacy\":\"anywhere\"}]\n"
     ]
    }
   ],
   "source": [
    "#Como resposta, podemos gravar em uma variável chamada de resposta\n",
    "resposta = urlopen(\"http://vimeo.com/api/v2/video/57733101.json\").read().decode(\"utf8\")\n",
    "\n",
    "#Gravar os dados em formato json usando json.loads()\n",
    "dados = json.loads(resposta)[0]\n",
    "\n",
    "print(resposta)"
   ]
  },
  {
   "cell_type": "code",
   "execution_count": 9,
   "metadata": {},
   "outputs": [
    {
     "name": "stdout",
     "output_type": "stream",
     "text": [
      "Título:  The Good Man trailer\n",
      "Url: https://vimeo.com/57733101\n",
      "Duração do vídeo(segundos): 143\n",
      "Número de visualizações: 6793\n"
     ]
    }
   ],
   "source": [
    "#Observe que o resultado gerado é um dicionário (pares de chave e valor). Podemos imprimir informações específicas com por exemplo o título, data, duração do vídeo e outros\n",
    "#Lembre, para acessar uma informação de um dicionário, é necessário a seguine sintaxe: dicionario[\"chave\"]. Como retorno, teremos o valor dessa chave\n",
    "\n",
    "print(\"Título: \", dados[\"title\"])\n",
    "print(\"Url:\", dados[\"url\"])\n",
    "print(\"Duração do vídeo(segundos):\", dados[\"duration\"])\n",
    "print(\"Número de visualizações:\", dados[\"stats_number_of_plays\"])"
   ]
  },
  {
   "cell_type": "markdown",
   "metadata": {},
   "source": [
    "#### Agora, vamos mover os dados de um arquivo para outro"
   ]
  },
  {
   "cell_type": "code",
   "execution_count": 4,
   "metadata": {},
   "outputs": [],
   "source": [
    "#Vamos definir os nomes dos arquivos que contém as informações dos vídeos\n",
    "arquivo1 = \"C:/Users/JoaoV/Documents/3_Projetos/Python/Dsa - Python para análise de dados/Capítulo 6/arquivos/dados.json\"\n",
    "arquivo2 = \"C:/Users/JoaoV/Documents/3_Projetos/Python/Dsa - Python para análise de dados/Capítulo 6/arquivos/dados.txt\""
   ]
  },
  {
   "cell_type": "code",
   "execution_count": null,
   "metadata": {},
   "outputs": [],
   "source": [
    "#Método de transferência de dados 1.    \n",
    "#abrir o arquivo de origem no modo de leitura, usar o método .read() para ler os dados e atribui-los à uma variável. Abrir o arquivo de destino no modo de escrituta (\"w\"), usar o método .write() para escrever as informações no arquivo\n",
    "#Por estarmos utilizando o método with open, o arquivo será fechado automaticamente após a execução do código\n",
    "with open(arquivo1, \"r\") as infile:\n",
    "    informacoes = infile.read()\n",
    "    with open(arquivo2, \"w\") as outfile:\n",
    "        outfile.write(informacoes)"
   ]
  },
  {
   "cell_type": "code",
   "execution_count": 6,
   "metadata": {},
   "outputs": [
    {
     "data": {
      "text/plain": [
       "85"
      ]
     },
     "execution_count": 6,
     "metadata": {},
     "output_type": "execute_result"
    }
   ],
   "source": [
    "#Podemos simplifcar usando um segundo método que reduz para apenas uma linha o código\n",
    "#(Abrir o arquivo de desino no modo de escrita com o método .write(abrir o arquivod e origem no modo de leitura).read())\n",
    "open(arquivo2, \"w\").write(open(arquivo1, \"r\").read())"
   ]
  },
  {
   "cell_type": "code",
   "execution_count": null,
   "metadata": {},
   "outputs": [
    {
     "name": "stdout",
     "output_type": "stream",
     "text": [
      "{'nome': 'João', 'linguagem': 'inglês', 'estudo': '7 anos', 'horas': 10000}\n"
     ]
    }
   ],
   "source": [
    "#abrir o arquivo em txt para verificar se as informações foram gravadas corretamente\n",
    "import json\n",
    "\n",
    "with open(\"C:/Users/JoaoV/Documents/3_Projetos/Python/Dsa - Python para análise de dados/Capítulo 6/arquivos/dados.txt\", \"r\") as arquivo_leiura:\n",
    "    #utilizar o método .read() para ler os dados do arquivo\n",
    "    informacoes = arquivo_leiura.read()\n",
    "    \n",
    "    #carregar os dados em uma variável usando o método json.loads(arquivo.read())\n",
    "    dados = json.loads(informacoes)\n",
    "\n",
    "#imprimir as informações\n",
    "print(dados)"
   ]
  },
  {
   "cell_type": "markdown",
   "metadata": {},
   "source": [
    "## Trabalhando com módulos e pacotes Python"
   ]
  },
  {
   "cell_type": "code",
   "execution_count": 1,
   "metadata": {},
   "outputs": [],
   "source": [
    "#Vamos importar o pacote numpy\n",
    "import numpy"
   ]
  },
  {
   "cell_type": "code",
   "execution_count": 2,
   "metadata": {},
   "outputs": [
    {
     "data": {
      "text/plain": [
       "np.float64(5.0)"
      ]
     },
     "execution_count": 2,
     "metadata": {},
     "output_type": "execute_result"
    }
   ],
   "source": [
    "#Vamos calcular a raíz quadrada de 25 usando o módulo sqrt do numpy\n",
    "numpy.sqrt(25)"
   ]
  }
 ],
 "metadata": {
  "kernelspec": {
   "display_name": "Python 3",
   "language": "python",
   "name": "python3"
  },
  "language_info": {
   "codemirror_mode": {
    "name": "ipython",
    "version": 3
   },
   "file_extension": ".py",
   "mimetype": "text/x-python",
   "name": "python",
   "nbconvert_exporter": "python",
   "pygments_lexer": "ipython3",
   "version": "3.11.9"
  }
 },
 "nbformat": 4,
 "nbformat_minor": 2
}
