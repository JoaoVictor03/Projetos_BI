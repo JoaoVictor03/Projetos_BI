{
 "cells": [
  {
   "cell_type": "markdown",
   "metadata": {},
   "source": [
    "# Capítulo 6 - Tratamento de Arquivos, Módulos, Pacotes e Funções Built-in"
   ]
  },
  {
   "cell_type": "code",
   "execution_count": 2,
   "metadata": {},
   "outputs": [
    {
     "name": "stdout",
     "output_type": "stream",
     "text": [
      "3.11.9\n"
     ]
    }
   ],
   "source": [
    "#Versão Python utilizada\n",
    "from platform import python_version\n",
    "print(python_version())"
   ]
  },
  {
   "cell_type": "code",
   "execution_count": 18,
   "metadata": {},
   "outputs": [
    {
     "name": "stdout",
     "output_type": "stream",
     "text": [
      "A Data Science Academy fornece cursos de alta qualidade e que transmitem muito conhecimento.\n"
     ]
    }
   ],
   "source": [
    "#Abrir um arquivo em Python\n",
    "#Para abrir um arquivo, podemos simplesmente usar a função open()\n",
    "\n",
    "#Sempre que for ler arquivos em python, utilize \"/\" para direcionar o caminho\n",
    "arquivo = open(\"C:/Users/JoaoV/Documents/Projetos/Python/Dsa - Python para análise de dados/Capítulo 6/arquivos/arquivo1.txt\", \"r\")\n",
    "\n",
    "#Ler arquivo\n",
    "ler_arquivo = arquivo.read()\n",
    "\n",
    "#imprimir o arquivo\n",
    "print(ler_arquivo)"
   ]
  },
  {
   "cell_type": "markdown",
   "metadata": {},
   "source": [
    "Podemos contar a quantidade de caracteres no arquivo usando o método .tell()"
   ]
  },
  {
   "cell_type": "code",
   "execution_count": 20,
   "metadata": {},
   "outputs": [
    {
     "name": "stdout",
     "output_type": "stream",
     "text": [
      "92\n"
     ]
    }
   ],
   "source": [
    "#Usar o método .tell() e atribuir a uma variável\n",
    "qtd_caracteres = arquivo.tell()\n",
    "\n",
    "#Imprimir essa variável\n",
    "print(qtd_caracteres)"
   ]
  }
 ],
 "metadata": {
  "kernelspec": {
   "display_name": "Python 3",
   "language": "python",
   "name": "python3"
  },
  "language_info": {
   "codemirror_mode": {
    "name": "ipython",
    "version": 3
   },
   "file_extension": ".py",
   "mimetype": "text/x-python",
   "name": "python",
   "nbconvert_exporter": "python",
   "pygments_lexer": "ipython3",
   "version": "3.11.9"
  }
 },
 "nbformat": 4,
 "nbformat_minor": 2
}
