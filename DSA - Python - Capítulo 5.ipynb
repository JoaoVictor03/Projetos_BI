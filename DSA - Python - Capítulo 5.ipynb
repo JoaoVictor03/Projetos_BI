{
 "cells": [
  {
   "cell_type": "code",
   "execution_count": 1,
   "metadata": {},
   "outputs": [
    {
     "name": "stdout",
     "output_type": "stream",
     "text": [
      "O maior número é:  215\n"
     ]
    }
   ],
   "source": [
    "# Criar um loop em lista de listas (matrizez) para encontrar o maior número\n",
    "matriz = [[42, 34, 23], [100, 215, 114], [10.8, 82,7, 12.3]]\n",
    "maior_numero = 0\n",
    "\n",
    "#Loop externo\n",
    "for linha in matriz:\n",
    "    #Loop interno\n",
    "    for item in linha:\n",
    "\n",
    "        #Criar uma condicional para verificar se ele é o maior\n",
    "        if item > maior_numero:\n",
    "            maior_numero = item\n",
    "\n",
    "print(\"O maior número é: \", maior_numero)"
   ]
  },
  {
   "cell_type": "code",
   "execution_count": 7,
   "metadata": {},
   "outputs": [
    {
     "name": "stdout",
     "output_type": "stream",
     "text": [
      "k1\n",
      "k2\n",
      "k3\n"
     ]
    }
   ],
   "source": [
    "#Listando as chaves para esse dicionário\n",
    "dict = {'k1': \"Python\", \"k2\": \"R\", \"k3\": \"Scala\"}\n",
    "\n",
    "for item in dict:\n",
    "    print(item)"
   ]
  },
  {
   "cell_type": "markdown",
   "metadata": {},
   "source": [
    "### Trabalhar com o Loop While"
   ]
  },
  {
   "cell_type": "code",
   "execution_count": 1,
   "metadata": {},
   "outputs": [
    {
     "name": "stdout",
     "output_type": "stream",
     "text": [
      "0\n",
      "1\n",
      "2\n",
      "3\n",
      "4\n",
      "5\n",
      "6\n",
      "7\n",
      "8\n",
      "9\n",
      "10\n"
     ]
    }
   ],
   "source": [
    "# Basicamente ele funciona assim: enquanto uma operação for verdadeira, continue realizando o que deve está codado\n",
    "valor = 0\n",
    "while valor <= 10: #enquanto o valor for <= a 10, o código irá continuar executando o que estiver no loop\n",
    "    print(valor)\n",
    "    valor = valor + 1"
   ]
  },
  {
   "cell_type": "code",
   "execution_count": 2,
   "metadata": {},
   "outputs": [
    {
     "name": "stdout",
     "output_type": "stream",
     "text": [
      "Valor:  0\n",
      "Valor:  1\n",
      "Valor:  2\n",
      "Valor:  3\n",
      "Valor:  4\n",
      "Valor:  5\n",
      "Valor:  6\n",
      "Valor:  7\n",
      "Valor:  8\n",
      "Valor:  9\n",
      "Valor:  10\n",
      "Pronto, o número é maior que 10\n"
     ]
    }
   ],
   "source": [
    "#Definir a variável valor\n",
    "valor = 0\n",
    "\n",
    "#Definir o loop externo, que checa se o valor for meno\n",
    "while valor <= 10:\n",
    "    print(\"Valor: \", valor)\n",
    "    valor = valor + 1\n",
    "else: #Estabelecer alguma ação para quando esse loop deixar de existir\n",
    "    print(\"Pronto, o número é maior que 10\")"
   ]
  },
  {
   "cell_type": "markdown",
   "metadata": {},
   "source": [
    " Podemos trabalhar com as clausulas, break, pass e continue. Basicamente a break quebra o código e não deixa mais continuar, a pass simplesmente ignora o código seguinte e a continue determina que o código permaneça executando a tarefa"
   ]
  },
  {
   "cell_type": "code",
   "execution_count": 1,
   "metadata": {},
   "outputs": [
    {
     "name": "stdout",
     "output_type": "stream",
     "text": [
      "0\n",
      "1\n",
      "2\n",
      "3\n"
     ]
    }
   ],
   "source": [
    "#Exemplo de código usando break e pass\n",
    "\n",
    "#Definir uma variável\n",
    "valor = 0\n",
    "\n",
    "#criar um loop. Enquanto a condição for verdadeira, ele irá executar a ação.\n",
    "while valor < 10:\n",
    "    if valor == 4:      #Em algum momento, este valor será igual à 4 porque há o incremento de uma unidade no final\n",
    "        break           #Se essa condição for verdadeira, deve quebrar o código\n",
    "    else:\n",
    "        pass            #Se não acontecer, apenas passe\n",
    "    print(valor)        #Imprimir o valor\n",
    "    valor = valor + 1   #Enquanto valor < 10 e como valor != 4, acrescentar 1 no valor"
   ]
  },
  {
   "cell_type": "markdown",
   "metadata": {},
   "source": [
    "##### Trabalhando com loop while e for ao mesmo tempo\n",
    "Encontrar os números primos em um conjunto de dados utilizando while e for juntos. Lembre, que cada número primo só é divisível por ele mesmo e por 1 ou seja, não pode haver resto na divisão"
   ]
  },
  {
   "cell_type": "code",
   "execution_count": 2,
   "metadata": {},
   "outputs": [
    {
     "name": "stdout",
     "output_type": "stream",
     "text": [
      "[2, 3, 5, 7, 11, 13, 17, 19, 23, 29]\n",
      "CPU times: total: 0 ns\n",
      "Wall time: 0 ns\n"
     ]
    }
   ],
   "source": [
    "%%time\n",
    "\n",
    "#Para começar, incializar uma lista vazia onde vamos armazenar os números\n",
    "numeros = []\n",
    "\n",
    "#Checar os números\n",
    "for elemento in range(2, 31):\n",
    "    eh_primo = True\n",
    "    \n",
    "    #loop while para verificar se o número é primo\n",
    "    i = 2 #Definir uma variável i = 2\n",
    "    \n",
    "    #Enquanto o índice i for menor que o elemento. O operador // ignora o resto da divisão, pegando apenas a parte inteira do número\n",
    "    while i <= elemento // 2: \n",
    "        \n",
    "        #Checar se o resto da divisão é par. Para ser par, o resto deve ser igual à 0\n",
    "        if elemento % i == 0:\n",
    "\n",
    "            #O número não é primo\n",
    "            eh_primo = False\n",
    "            break\n",
    "        \n",
    "        #Acrescentar 1 no índice\n",
    "        i = i + 1\n",
    "    \n",
    "    #Adicionar o número primo na lista\n",
    "    if eh_primo:\n",
    "        numeros.append(elemento)\n",
    "\n",
    "#imprimir a lista de números primos;\n",
    "print(numeros)"
   ]
  },
  {
   "cell_type": "code",
   "execution_count": 6,
   "metadata": {},
   "outputs": [
    {
     "name": "stdout",
     "output_type": "stream",
     "text": [
      "2O número é primo\n",
      "3O número é primo\n",
      "5O número é primo\n",
      "7O número é primo\n",
      "11O número é primo\n",
      "13O número é primo\n",
      "17O número é primo\n",
      "19O número é primo\n",
      "23O número é primo\n",
      "29O número é primo\n"
     ]
    }
   ],
   "source": [
    "#Outra maneira de criar o código\n",
    "\n",
    "#Loop para percorrer os números de 2 à 30:\n",
    "for i in range(2,30):\n",
    "\n",
    "    #Variável de controle\n",
    "    j = 2\n",
    "\n",
    "    #Contador\n",
    "    valor = 0\n",
    "\n",
    "    #loop while interno para verficar se o número é primo\n",
    "    while j < i:\n",
    "\n",
    "        #Se o resto dessa divisão for 0, significa que o número é primo\n",
    "        if i % j == 0:\n",
    "            valor = 1\n",
    "            j = j + 1\n",
    "\n",
    "        else:\n",
    "            j = j + 1\n",
    "        \n",
    "    if valor == 0:\n",
    "        print(str(i) + \"O número é primo\")\n",
    "        valor = 0\n",
    "    else:\n",
    "        valor = 0"
   ]
  },
  {
   "cell_type": "code",
   "execution_count": null,
   "metadata": {},
   "outputs": [],
   "source": [
    "#3ª Forma de fazer o código, dessa vez criando uma lista e usando o método .append\n",
    "\n",
    "#Variável para armazenar os números primos\n",
    "primos = []\n",
    "\n",
    "for numero in range(2,31):\n",
    "\n",
    "    #Criar uma variável de controle para armazenar se o número é primo ou não\n",
    "    eh_primo = True\n",
    "\n",
    "    indice = 2\n",
    "\n",
    "    while indice <= numero // 2:    #Pegar apenas a parte inteira da divisão. Ou seja, se 2 <= que 3 / 2 = 1,5. Pegamos apenas 1\n",
    "        if indice\n"
   ]
  },
  {
   "cell_type": "markdown",
   "metadata": {},
   "source": [
    "Gerar intervalos de valores com linguagem Python"
   ]
  },
  {
   "cell_type": "code",
   "execution_count": 1,
   "metadata": {},
   "outputs": [
    {
     "name": "stdout",
     "output_type": "stream",
     "text": [
      "Versão da linguagem python utilizada neste exercício:  3.11.9\n"
     ]
    }
   ],
   "source": [
    "from platform import python_version\n",
    "print(\"Versão da linguagem python utilizada neste exercício: \", python_version())"
   ]
  },
  {
   "cell_type": "code",
   "execution_count": 2,
   "metadata": {},
   "outputs": [
    {
     "name": "stdout",
     "output_type": "stream",
     "text": [
      "0\n",
      "1\n",
      "2\n",
      "3\n",
      "4\n",
      "5\n",
      "6\n",
      "7\n",
      "8\n",
      "9\n",
      "10\n"
     ]
    }
   ],
   "source": [
    "#Função range serve para gerar intervalos de dados\n",
    "#exemplo\n",
    "for i in range(0, 11):\n",
    "    print(i)"
   ]
  },
  {
   "cell_type": "code",
   "execution_count": 4,
   "metadata": {},
   "outputs": [
    {
     "name": "stdout",
     "output_type": "stream",
     "text": [
      "0\n",
      "2\n",
      "4\n",
      "6\n",
      "8\n",
      "10\n",
      "12\n",
      "14\n",
      "16\n",
      "18\n",
      "20\n",
      "22\n",
      "24\n",
      "26\n",
      "28\n",
      "30\n",
      "32\n",
      "34\n",
      "36\n",
      "38\n",
      "40\n",
      "42\n",
      "44\n",
      "46\n",
      "48\n",
      "50\n",
      "52\n",
      "54\n",
      "56\n",
      "58\n",
      "60\n",
      "62\n",
      "64\n",
      "66\n",
      "68\n",
      "70\n",
      "72\n",
      "74\n",
      "76\n",
      "78\n",
      "80\n",
      "82\n",
      "84\n",
      "86\n",
      "88\n",
      "90\n",
      "92\n",
      "94\n",
      "96\n",
      "98\n",
      "100\n"
     ]
    }
   ],
   "source": [
    "#Imprimir apenas os números pares entre um intervalo\n",
    "\n",
    "for i in range (0, 101, 2): #o número 2 no final identifica que é a cada 2 unidades\n",
    "    print(i)"
   ]
  },
  {
   "cell_type": "code",
   "execution_count": 10,
   "metadata": {},
   "outputs": [
    {
     "name": "stdout",
     "output_type": "stream",
     "text": [
      "Abacaxi\n",
      "Banana\n",
      "Morango\n",
      "Pera\n"
     ]
    }
   ],
   "source": [
    "#Usando o tamanho de uma lista na função range\n",
    "Frutas = [\"Abacaxi\", \"Banana\", \"Morango\", \"Pera\"]\n",
    "tamanho_lista = len(Frutas)\n",
    "\n",
    "#Criar o range em que o valor máximo é o comprimento da lista\n",
    "for elemento in range(0, tamanho_lista):\n",
    "    print(Frutas[elemento])"
   ]
  },
  {
   "cell_type": "markdown",
   "metadata": {},
   "source": [
    "Python é uma linguagem orientada à objetos. Listas, dicionários e tuplas, por exemplo, são objetos"
   ]
  },
  {
   "cell_type": "code",
   "execution_count": 11,
   "metadata": {},
   "outputs": [
    {
     "data": {
      "text/plain": [
       "2"
      ]
     },
     "execution_count": 11,
     "metadata": {},
     "output_type": "execute_result"
    }
   ],
   "source": [
    "#Podemos criar uma lista e utilizar o método count para contar quantas vezes um elemento aparece naquela lista.\n",
    "lista = [\"pera\", \"maçã\", \"banana\", \"morango\", \"melancia\", \"pera\"]\n",
    "lista.count(\"pera\")"
   ]
  },
  {
   "cell_type": "code",
   "execution_count": 12,
   "metadata": {},
   "outputs": [
    {
     "data": {
      "text/plain": [
       "['Isso', 'é', 'uma', 'frase']"
      ]
     },
     "execution_count": 12,
     "metadata": {},
     "output_type": "execute_result"
    }
   ],
   "source": [
    "#podemos dividir uma frase usando o método split\n",
    "frase = \"Isso é uma frase\"\n",
    "\n",
    "frase.split()"
   ]
  },
  {
   "cell_type": "markdown",
   "metadata": {},
   "source": [
    "### Trabalhando com funções em Python"
   ]
  },
  {
   "cell_type": "markdown",
   "metadata": {},
   "source": [
    "Funções são blocos de códigos que você pode executar diversas vezes chamando elas no código"
   ]
  },
  {
   "cell_type": "code",
   "execution_count": 3,
   "metadata": {},
   "outputs": [
    {
     "name": "stdout",
     "output_type": "stream",
     "text": [
      "Teste\n"
     ]
    }
   ],
   "source": [
    "#Exemplo simples\n",
    "\n",
    "#Definir a função\n",
    "def funcao():\n",
    "    print(\"Teste\")\n",
    "\n",
    "#Chamamos a função escrevendo o nome dela e parentes\n",
    "funcao()"
   ]
  },
  {
   "cell_type": "code",
   "execution_count": 6,
   "metadata": {},
   "outputs": [
    {
     "name": "stdout",
     "output_type": "stream",
     "text": [
      "Olá sr(a):  João\n"
     ]
    }
   ],
   "source": [
    "#Podemos definir funções que usam parâmetros(argumentos) para serem executadas\n",
    "def funcao2(nome):\n",
    "    print(\"Olá sr(a): \", nome)\n",
    "\n",
    "#Veja que nesse caso o argumento da função é o nome joão\n",
    "funcao2(\"João\")"
   ]
  },
  {
   "cell_type": "code",
   "execution_count": 7,
   "metadata": {},
   "outputs": [
    {
     "name": "stdout",
     "output_type": "stream",
     "text": [
      "Numéro:  0\n",
      "Numéro:  1\n",
      "Numéro:  2\n",
      "Numéro:  3\n",
      "Numéro:  4\n"
     ]
    }
   ],
   "source": [
    "#Podemos criar uma função para imprimir números\n",
    "def funcao():\n",
    "\n",
    "    #Criar um loop que irá iterar sobre cada um dos itens do intervalo\n",
    "    for i in range(0,5):\n",
    "\n",
    "        #Imprimir cada um dos números\n",
    "        print(\"Numéro: \", i)\n",
    "\n",
    "#Chamar a função para ser executada\n",
    "funcao()"
   ]
  },
  {
   "cell_type": "code",
   "execution_count": 11,
   "metadata": {},
   "outputs": [
    {
     "name": "stdout",
     "output_type": "stream",
     "text": [
      "O parâmetro passado foi:  Abacaxi\n",
      "O parâmetro passado foi:  Melancia\n"
     ]
    }
   ],
   "source": [
    "#Criar uma função com um número variável de argumentos. Para isso, vamos usar arg1, *Vartuple nos parâmetros\n",
    "def funcaovariavel(argumento1, *vartuple):\n",
    "    \n",
    "    #Caso só 1 argumento tenha sido passado, esse será considerado\n",
    "    print(\"O parâmetro passado foi: \", argumento1)\n",
    "\n",
    "    #Agora, caso mais de um argumento tenha sido considerado, ele irá iterar sobre cada um dos argumentos com tupla(imutável)\n",
    "    for item in vartuple:\n",
    "        \n",
    "        #Imprimir cada um deles\n",
    "        print(\"O parâmetro passado foi: \", item)\n",
    "    \n",
    "    #Retornar\n",
    "    return\n",
    "\n",
    "funcaovariavel(\"Abacaxi\", \"Melancia\")"
   ]
  },
  {
   "cell_type": "markdown",
   "metadata": {},
   "source": [
    "### Escopo de variável Local e Global em Python"
   ]
  },
  {
   "cell_type": "markdown",
   "metadata": {},
   "source": [
    "### Funções Built-in"
   ]
  },
  {
   "cell_type": "code",
   "execution_count": 13,
   "metadata": {},
   "outputs": [
    {
     "data": {
      "text/plain": [
       "51"
      ]
     },
     "execution_count": 13,
     "metadata": {},
     "output_type": "execute_result"
    }
   ],
   "source": [
    "#Recuperar o valor absoluto de um número.\n",
    "#Recupera o número, desconsiderando o sinal\n",
    "abs(-51)"
   ]
  },
  {
   "cell_type": "code",
   "execution_count": 14,
   "metadata": {},
   "outputs": [
    {
     "data": {
      "text/plain": [
       "True"
      ]
     },
     "execution_count": 14,
     "metadata": {},
     "output_type": "execute_result"
    }
   ],
   "source": [
    "#Função booleana para os números\n",
    "bool(1)"
   ]
  },
  {
   "cell_type": "code",
   "execution_count": 15,
   "metadata": {},
   "outputs": [
    {
     "data": {
      "text/plain": [
       "False"
      ]
     },
     "execution_count": 15,
     "metadata": {},
     "output_type": "execute_result"
    }
   ],
   "source": [
    "bool(0)"
   ]
  },
  {
   "cell_type": "code",
   "execution_count": 17,
   "metadata": {},
   "outputs": [
    {
     "data": {
      "text/plain": [
       "3"
      ]
     },
     "execution_count": 17,
     "metadata": {},
     "output_type": "execute_result"
    }
   ],
   "source": [
    "array = [1, 2, 3]\n",
    "max(array)"
   ]
  },
  {
   "cell_type": "markdown",
   "metadata": {},
   "source": [
    "### Criando funções usando outras funções"
   ]
  },
  {
   "cell_type": "code",
   "execution_count": 24,
   "metadata": {},
   "outputs": [
    {
     "data": {
      "text/plain": [
       "'Este número não é primo'"
      ]
     },
     "execution_count": 24,
     "metadata": {},
     "output_type": "execute_result"
    }
   ],
   "source": [
    "import math\n",
    "\n",
    "#Verificar se um número é primo\n",
    "def numprimo(num):\n",
    "    \n",
    "    #Se o resto da divisão por 2 for 0 e o número maior que 2 o número não é primo.\n",
    "    if (num % 2) == 0 and num > 2:\n",
    "\n",
    "        print(\"O número não é primo\")\n",
    "    \n",
    "    for i in range(3, int(math.sqrt(num)) + 1, 2):\n",
    "       \n",
    "        if (num % i) == 0:\n",
    "                \n",
    "                return \"Este número não é primo\"\n",
    "    \n",
    "    return \"Este número é primo\"\n",
    "\n",
    "numprimo(15)\n",
    " "
   ]
  },
  {
   "cell_type": "code",
   "execution_count": 4,
   "metadata": {},
   "outputs": [
    {
     "data": {
      "text/plain": [
       "'este texto dever ser lower case'"
      ]
     },
     "execution_count": 4,
     "metadata": {},
     "output_type": "execute_result"
    }
   ],
   "source": [
    "#Usar lowercase em todo a string\n",
    "caixa_baixa = \"Este Texto Dever Ser Lower Case\"\n",
    "\n",
    "def lowercase(texto):\n",
    "    return texto.lower()\n",
    "\n",
    "lowercase(caixa_baixa)"
   ]
  },
  {
   "cell_type": "code",
   "execution_count": 10,
   "metadata": {},
   "outputs": [
    {
     "data": {
      "text/plain": [
       "['Esta', 'função', 'é', 'útil', 'para', 'separar', 'textos']"
      ]
     },
     "execution_count": 10,
     "metadata": {},
     "output_type": "execute_result"
    }
   ],
   "source": [
    "#Criar uma função para realizar split dos dados\n",
    "def split_string(texto):\n",
    "    \n",
    "    #utilizar aspas dentro dos parentes para poder separa por aspas\n",
    "    return texto.split(\" \")\n",
    "\n",
    "texto = \"Esta função é útil para separar textos\"\n",
    "\n",
    "resultado = split_string(texto)\n",
    "\n",
    "resultado"
   ]
  },
  {
   "cell_type": "markdown",
   "metadata": {},
   "source": [
    "### Expressão Lambda em Python"
   ]
  },
  {
   "cell_type": "code",
   "execution_count": 14,
   "metadata": {},
   "outputs": [
    {
     "data": {
      "text/plain": [
       "25"
      ]
     },
     "execution_count": 14,
     "metadata": {},
     "output_type": "execute_result"
    }
   ],
   "source": [
    "#Criar uma função para elevar o número ao quadrado\n",
    "\n",
    "def potencia(numero):\n",
    "    quadrado = numero ** 2\n",
    "    return quadrado\n",
    "\n",
    "potencia(5)"
   ]
  },
  {
   "cell_type": "code",
   "execution_count": 18,
   "metadata": {},
   "outputs": [
    {
     "data": {
      "text/plain": [
       "81"
      ]
     },
     "execution_count": 18,
     "metadata": {},
     "output_type": "execute_result"
    }
   ],
   "source": [
    "#Agora, usando a função lambda\n",
    "\n",
    "#A função lambda cria uma função que só será executada na linha em que está sendo mostrada\n",
    "potencia = lambda numero: numero ** 2\n",
    "\n",
    "#Escolher um número e chamar a função para executar\n",
    "potencia(9)"
   ]
  },
  {
   "cell_type": "code",
   "execution_count": 23,
   "metadata": {},
   "outputs": [
    {
     "data": {
      "text/plain": [
       "False"
      ]
     },
     "execution_count": 23,
     "metadata": {},
     "output_type": "execute_result"
    }
   ],
   "source": [
    "#Criar uma função para verificar se um número é par\n",
    "#Para que ele seja par, o resto da divisão deve ser 0\n",
    "\n",
    "eh_par = lambda numero: numero % 2 == 0\n",
    "\n",
    "#Chamar a função com base em um argumento\n",
    "eh_par(3)"
   ]
  },
  {
   "cell_type": "markdown",
   "metadata": {},
   "source": [
    "### Trabalhando com List Comprehension"
   ]
  },
  {
   "cell_type": "markdown",
   "metadata": {},
   "source": [
    "List comprehension serve para criar listas de forma dinâmica e iterando sobre cada um dos itens"
   ]
  },
  {
   "cell_type": "code",
   "execution_count": 24,
   "metadata": {},
   "outputs": [
    {
     "data": {
      "text/plain": [
       "[0, 1, 2, 3, 4, 5, 6, 7, 8, 9, 10]"
      ]
     },
     "execution_count": 24,
     "metadata": {},
     "output_type": "execute_result"
    }
   ],
   "source": [
    "#Exemplo: Criar uma lista com números de 1 à 10\n",
    "[x for x in range(0,11)]"
   ]
  },
  {
   "cell_type": "code",
   "execution_count": 25,
   "metadata": {},
   "outputs": [
    {
     "name": "stdout",
     "output_type": "stream",
     "text": [
      "[0, 1, 2, 3, 4, 5, 6, 7, 8, 9, 10]\n"
     ]
    }
   ],
   "source": [
    "#Podemos usar o mesmo exemplo anterior e gravar a lista em uma variável\n",
    "lista = [num for num in range(0,11)]\n",
    "\n",
    "print(lista)"
   ]
  },
  {
   "cell_type": "code",
   "execution_count": 26,
   "metadata": {},
   "outputs": [
    {
     "name": "stdout",
     "output_type": "stream",
     "text": [
      "[0, 1, 2, 3, 4]\n"
     ]
    }
   ],
   "source": [
    "#Podemos usar uma condição para que algumas condições sejam atendidas, por exemplo: Se os números forem menor que 5\n",
    "lista = [num for num in range(10) if num < 5]\n",
    "\n",
    "print(lista)"
   ]
  },
  {
   "cell_type": "code",
   "execution_count": 29,
   "metadata": {},
   "outputs": [
    {
     "name": "stdout",
     "output_type": "stream",
     "text": [
      "['Maçã', 'Melancia', 'Morango']\n"
     ]
    }
   ],
   "source": [
    "#podemos criar um list comprehension que verifica se uma letra específica está dentro de alguma palavra. Se sim, adiciona essa palavra à uma lista de resultados\n",
    "\n",
    "frutas = [\"Banana\", \"Maçã\", \"Melancia\", \"Abacate\", \"Morango\", \"Lixia\", \"Pera\"]\n",
    "\n",
    "resultado = []\n",
    "\n",
    "#Criar um loop que itera sobre cada um dos elementos da lista\n",
    "for fruta in frutas:\n",
    "    \n",
    "    #verificar se a letra M está na palavra\n",
    "    if \"M\" in fruta:\n",
    "\n",
    "        #usar o método .append para adicionar a palavra dentro da lista de resultados\n",
    "        resultado.append(fruta)\n",
    "\n",
    "print(resultado)"
   ]
  },
  {
   "cell_type": "code",
   "execution_count": 34,
   "metadata": {},
   "outputs": [
    {
     "name": "stdout",
     "output_type": "stream",
     "text": [
      "['Maçã', 'Melancia', 'Morango']\n"
     ]
    }
   ],
   "source": [
    "#Podemos refazer o código anterior usando o list comprehension\n",
    "\n",
    "#lê se: Fruta para fruta na lista de frutas se a letra M estiver na palavra atual\n",
    "resultado = [fruta for fruta in frutas if \"M\" in fruta]\n",
    "\n",
    "print(resultado)"
   ]
  },
  {
   "cell_type": "markdown",
   "metadata": {},
   "source": [
    "Dict Comprehension. Funciona de forma parecida"
   ]
  },
  {
   "cell_type": "code",
   "execution_count": 38,
   "metadata": {},
   "outputs": [
    {
     "name": "stdout",
     "output_type": "stream",
     "text": [
      "{'Bob': 7, 'Michele': 10, 'Jeff': 9, 'Rick': 8}\n"
     ]
    }
   ],
   "source": [
    "#Imprimir um dicionário com as notas dos alunos\n",
    "alunos = {\"Bob\": 7, \"Michele\": 10, \"Jeff\": 9, \"Rick\": 8}\n",
    "\n",
    "notas = {k:v for (k,v) in alunos.items()}\n",
    "\n",
    "print(notas)"
   ]
  }
 ],
 "metadata": {
  "kernelspec": {
   "display_name": "Python 3",
   "language": "python",
   "name": "python3"
  },
  "language_info": {
   "codemirror_mode": {
    "name": "ipython",
    "version": 3
   },
   "file_extension": ".py",
   "mimetype": "text/x-python",
   "name": "python",
   "nbconvert_exporter": "python",
   "pygments_lexer": "ipython3",
   "version": "3.11.9"
  }
 },
 "nbformat": 4,
 "nbformat_minor": 2
}
