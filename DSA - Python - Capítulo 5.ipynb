{
 "cells": [
  {
   "cell_type": "code",
   "execution_count": 1,
   "metadata": {},
   "outputs": [
    {
     "name": "stdout",
     "output_type": "stream",
     "text": [
      "O maior número é:  215\n"
     ]
    }
   ],
   "source": [
    "# Criar um loop em lista de listas (matrizez) para encontrar o maior número\n",
    "matriz = [[42, 34, 23], [100, 215, 114], [10.8, 82,7, 12.3]]\n",
    "maior_numero = 0\n",
    "\n",
    "#Loop externo\n",
    "for linha in matriz:\n",
    "    #Loop interno\n",
    "    for item in linha:\n",
    "\n",
    "        #Criar uma condicional para verificar se ele é o maior\n",
    "        if item > maior_numero:\n",
    "            maior_numero = item\n",
    "\n",
    "print(\"O maior número é: \", maior_numero)"
   ]
  },
  {
   "cell_type": "code",
   "execution_count": 7,
   "metadata": {},
   "outputs": [
    {
     "name": "stdout",
     "output_type": "stream",
     "text": [
      "k1\n",
      "k2\n",
      "k3\n"
     ]
    }
   ],
   "source": [
    "#Listando as chaves para esse dicionário\n",
    "dict = {'k1': \"Python\", \"k2\": \"R\", \"k3\": \"Scala\"}\n",
    "\n",
    "for item in dict:\n",
    "    print(item)"
   ]
  },
  {
   "cell_type": "markdown",
   "metadata": {},
   "source": [
    "### Trabalhar com o Loop While"
   ]
  },
  {
   "cell_type": "code",
   "execution_count": 1,
   "metadata": {},
   "outputs": [
    {
     "name": "stdout",
     "output_type": "stream",
     "text": [
      "0\n",
      "1\n",
      "2\n",
      "3\n",
      "4\n",
      "5\n",
      "6\n",
      "7\n",
      "8\n",
      "9\n",
      "10\n"
     ]
    }
   ],
   "source": [
    "# Basicamente ele funciona assim: enquanto uma operação for verdadeira, continue realizando o que deve está codado\n",
    "valor = 0\n",
    "while valor <= 10: #enquanto o valor for <= a 10, o código irá continuar executando o que estiver no loop\n",
    "    print(valor)\n",
    "    valor = valor + 1"
   ]
  },
  {
   "cell_type": "code",
   "execution_count": 2,
   "metadata": {},
   "outputs": [
    {
     "name": "stdout",
     "output_type": "stream",
     "text": [
      "Valor:  0\n",
      "Valor:  1\n",
      "Valor:  2\n",
      "Valor:  3\n",
      "Valor:  4\n",
      "Valor:  5\n",
      "Valor:  6\n",
      "Valor:  7\n",
      "Valor:  8\n",
      "Valor:  9\n",
      "Valor:  10\n",
      "Pronto, o número é maior que 10\n"
     ]
    }
   ],
   "source": [
    "#Definir a variável valor\n",
    "valor = 0\n",
    "\n",
    "#Definir o loop externo, que checa se o valor for meno\n",
    "while valor <= 10:\n",
    "    print(\"Valor: \", valor)\n",
    "    valor = valor + 1\n",
    "else: #Estabelecer alguma ação para quando esse loop deixar de existir\n",
    "    print(\"Pronto, o número é maior que 10\")"
   ]
  },
  {
   "cell_type": "markdown",
   "metadata": {},
   "source": [
    " Podemos trabalhar com as clausulas, break, pass e continue. Basicamente a break quebra o código e não deixa mais continuar, a pass simplesmente ignora o código seguinte e a continue determina que o código permaneça executando a tarefa"
   ]
  },
  {
   "cell_type": "code",
   "execution_count": 1,
   "metadata": {},
   "outputs": [
    {
     "name": "stdout",
     "output_type": "stream",
     "text": [
      "0\n",
      "1\n",
      "2\n",
      "3\n"
     ]
    }
   ],
   "source": [
    "#Exemplo de código usando break e pass\n",
    "\n",
    "#Definir uma variável\n",
    "valor = 0\n",
    "\n",
    "#criar um loop. Enquanto a condição for verdadeira, ele irá executar a ação.\n",
    "while valor < 10:\n",
    "    if valor == 4:      #Em algum momento, este valor será igual à 4 porque há o incremento de uma unidade no final\n",
    "        break           #Se essa condição for verdadeira, deve quebrar o código\n",
    "    else:\n",
    "        pass            #Se não acontecer, apenas passe\n",
    "    print(valor)        #Imprimir o valor\n",
    "    valor = valor + 1   #Enquanto valor < 10 e como valor != 4, acrescentar 1 no valor"
   ]
  },
  {
   "cell_type": "markdown",
   "metadata": {},
   "source": [
    "##### Trabalhando com loop while e for ao mesmo tempo\n",
    "Encontrar os números primos em um conjunto de dados utilizando while e for juntos. Lembre, que cada número primo só é divisível por ele mesmo e por 1 ou seja, não pode haver resto na divisão"
   ]
  },
  {
   "cell_type": "code",
   "execution_count": null,
   "metadata": {},
   "outputs": [],
   "source": [
    "#Para começar, inciarlizar uma lista vazia onde vamos armazenar os números\n",
    "numeros = []\n",
    "\n",
    "#Checar os números\n",
    "for elemento in range(2, 31):\n",
    "    eh_primo = True\n",
    "    \n",
    "    #loop while p"
   ]
  }
 ],
 "metadata": {
  "kernelspec": {
   "display_name": "Python 3",
   "language": "python",
   "name": "python3"
  },
  "language_info": {
   "codemirror_mode": {
    "name": "ipython",
    "version": 3
   },
   "file_extension": ".py",
   "mimetype": "text/x-python",
   "name": "python",
   "nbconvert_exporter": "python",
   "pygments_lexer": "ipython3",
   "version": "3.11.9"
  }
 },
 "nbformat": 4,
 "nbformat_minor": 2
}
