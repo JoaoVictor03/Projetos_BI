{
 "cells": [
  {
   "cell_type": "code",
   "execution_count": null,
   "metadata": {},
   "outputs": [],
   "source": [
    "dicionario_aninhado = {\"chave1\": {\"chave2_aninhada\": {\"chave3_aninhada\": \"Dicionario aninhado em python\"}}}\n",
    "dicionario_aninhado\n",
    "dicionario_aninhado[\"chave1\"][\"chave2_aninhada\"][\"chave3_aninhada\"]"
   ]
  }
 ],
 "metadata": {
  "language_info": {
   "name": "python"
  }
 },
 "nbformat": 4,
 "nbformat_minor": 2
}
